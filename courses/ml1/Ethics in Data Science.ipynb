{
 "cells": [
  {
   "cell_type": "markdown",
   "metadata": {},
   "source": [
    "Ethics in Data Science"
   ]
  },
  {
   "cell_type": "markdown",
   "metadata": {},
   "source": [
    "Considerations:\n",
    "\n",
    "**Starting point: you are incredibly fortunate to be a student in MSAN, to be a data scientist in San Francisco. You have a responsibility to not do harm with your skills.**"
   ]
  },
  {
   "cell_type": "markdown",
   "metadata": {},
   "source": [
    "**Not everything your employer asks you to do may be legal.**  An engineer at Volkswagon was [sentenced to 3.5 years in prison](https://www.nytimes.com/2017/08/25/business/volkswagen-engineer-prison-diesel-cheating.html) for helping develop the software to cheat on federal emissions tests.  Your boss asking you to do something is not an excuse that will protect you in court."
   ]
  },
  {
   "cell_type": "markdown",
   "metadata": {},
   "source": [
    "**Not everything that is legal is ethical.**    "
   ]
  },
  {
   "cell_type": "markdown",
   "metadata": {},
   "source": [
    "**What questions are worth asking?**"
   ]
  },
  {
   "cell_type": "markdown",
   "metadata": {},
   "source": []
  },
  {
   "cell_type": "markdown",
   "metadata": {},
   "source": [
    "**What data should be collected?** (Privacy, de-anonymization, risks of leaks.) Don't store or ask for more information than needed.  Don't violate Terms of Service or others privacy in collecting data. \n",
    "\n",
    "[Transgender YouTubers had their videos grabbed to train facial recognition software](https://www.theverge.com/2017/8/22/16180080/transgender-youtubers-ai-facial-recognition-dataset) *Danielle, who is featured in the dataset and whose transition pictures appear in scientific papers because of it, says she was never contacted about her inclusion. “I by no means ‘hide’ my identity, but this feels like a violation of privacy.”*\n",
    "\n",
    "[Researchers Caused an Uproar By Publishing Data From 70,000 OkCupid Users](http://fortune.com/2016/05/18/okcupid-data-research/) *Danish researchers published data from the online profiles of nearly 70,000 OkCupid users—including usernames, political leanings, drug usage, and intimate sexual details—creating a privacy firestorm.*  OkCupid sent a take-down notice, and the group complied, although hundreds of people had already downloaded the data.\n",
    "\n",
    "[“Anonymized” data really isn’t—and here’s why not](https://arstechnica.com/tech-policy/2009/09/your-secrets-live-online-in-databases-of-ruin/) CS researcher de-anonymizes anonymous health data.  Even though name, address, and Social Security number had been removed, Sweeney was able to combine with other data to de-anonymize.\n",
    "\n",
    "*She knew that Governor Weld resided in Cambridge, Massachusetts, a city of 54,000 residents and seven ZIP codes. For twenty dollars, she purchased the complete voter rolls from the city of Cambridge, a database containing, among other things, the name, address, ZIP code, birth date, and sex of every voter. By combining this data with the GIC (medical) records, Sweeney found Governor Weld with ease. Only six people in Cambridge shared his birth date, only three of them men, and of them, only he lived in his ZIP code. In a theatrical flourish, Dr. Sweeney sent the Governor’s health records (which included diagnoses and prescriptions) to his office.*\n",
    "\n",
    "In 2000, she showed that 87 percent of all Americans could be uniquely identified using only three bits of information: ZIP code, birthdate, and sex."
   ]
  },
  {
   "cell_type": "markdown",
   "metadata": {},
   "source": [
    "Unintended consequences: **Impact can be very different from intent.**"
   ]
  },
  {
   "cell_type": "markdown",
   "metadata": {},
   "source": [
    "**Don't blindly optimize for a metric (or group of metrics) without thinking about bigger picture.**  As [Abe Gong points out](https://www.youtube.com/watch?list=PLB2SCq-tZtVmadnKpO8WwKiFKteY5rHPT&time_continue=1624&v=WjKdKvDS10g), including information about whether someone's father left when they were a child could increase accuracy of a model for criminial recidivism, but is it moral to do so?\n",
    "\n",
    "<img src=\"images/ethics_recidivism.jpg\" alt=\"digit\" style=\"width: 40%\"/>\n",
    "  (Source: [Ethics for Powerful Algorithms](https://www.youtube.com/watch?list=PLB2SCq-tZtVmadnKpO8WwKiFKteY5rHPT&time_continue=1624&v=WjKdKvDS10g))"
   ]
  },
  {
   "cell_type": "markdown",
   "metadata": {},
   "source": [
    "**Costs of Mistakes**\n",
    "*There’s no hiding behind algorithms anymore.* -Atlantic reporter Alexis Madrigal.  After the recent shooting in Vegas, [Google surfaced a 4chan story](https://www.theatlantic.com/technology/archive/2017/10/google-and-facebook-have-failed-us/541794/) as a top search result and Facebook's Trending Stories showed a page from a known source of Russian propaganda. "
   ]
  },
  {
   "cell_type": "markdown",
   "metadata": {},
   "source": [
    "**Self-reinforcing Feedback loops**\n",
    "\n",
    "Eg. don't show women tech meetups\n",
    "Evan Estola: [When Recommendation Systems Go Bad](https://www.youtube.com/watch?v=MqoRzNhrTnQ)\n",
    "\n",
    "send more cops to predominantly Black neighborhoods"
   ]
  },
  {
   "cell_type": "markdown",
   "metadata": {},
   "source": []
  },
  {
   "cell_type": "markdown",
   "metadata": {},
   "source": []
  },
  {
   "cell_type": "markdown",
   "metadata": {},
   "source": []
  }
 ],
 "metadata": {
  "kernelspec": {
   "display_name": "Python 3",
   "language": "python",
   "name": "python3"
  },
  "language_info": {
   "codemirror_mode": {
    "name": "ipython",
    "version": 3
   },
   "file_extension": ".py",
   "mimetype": "text/x-python",
   "name": "python",
   "nbconvert_exporter": "python",
   "pygments_lexer": "ipython3",
   "version": "3.6.1"
  }
 },
 "nbformat": 4,
 "nbformat_minor": 2
}
